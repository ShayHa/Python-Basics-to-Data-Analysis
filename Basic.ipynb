{
 "cells": [
  {
   "cell_type": "markdown",
   "metadata": {
    "deletable": false,
    "editable": false
   },
   "source": [
    "<h6> Solution created by Shay Halfon </h6>"
   ]
  },
  {
   "cell_type": "markdown",
   "metadata": {},
   "source": [
    "<font color=\"dark\"> <h1 align='center'> Question 1 </h1> </font>"
   ]
  },
  {
   "cell_type": "code",
   "execution_count": 1,
   "metadata": {},
   "outputs": [],
   "source": [
    "#imports\n",
    "import itertools\n",
    "from operator import add, sub, mul, pow, truediv\n",
    "from functools import reduce"
   ]
  },
  {
   "cell_type": "markdown",
   "metadata": {},
   "source": [
    "<font color=\"blue\" > <h3 align='left'> Part A </h3> <h5> functional implementation </h5> </font>"
   ]
  },
  {
   "cell_type": "code",
   "execution_count": 2,
   "metadata": {},
   "outputs": [
    {
     "name": "stdout",
     "output_type": "stream",
     "text": [
      "List is empty\n",
      "True\n",
      "False\n"
     ]
    }
   ],
   "source": [
    "def find_diff_list(ls):\n",
    "    if not ls:\n",
    "        return False\n",
    "    lt = zip(ls[:-1], ls[1:])\n",
    "    diff_list = [abs(y - x) for x, y in lt]\n",
    "\n",
    "    return diff_list\n",
    "\n",
    "def is_expanding_functional(ls):\n",
    "    if not ls:\n",
    "        return \"List is empty\"\n",
    "    diff_list = find_diff_list(ls)\n",
    "    check_if_ok = [u for u in range(len(diff_list) - 1) if diff_list[u + 1] <= diff_list[u]]\n",
    "    if len(check_if_ok) != 0:\n",
    "        return False\n",
    "    return True\n",
    "# checks\n",
    "print(is_expanding_functional([]))\n",
    "print(is_expanding_functional([5, 6, 8, 11]))\n",
    "print(is_expanding_functional([5, 5, 8, 11]))"
   ]
  },
  {
   "cell_type": "markdown",
   "metadata": {},
   "source": [
    "<font color=\"blue\" > <h3 align='left'> Part A </h3> <h5> efficient implementation </h5> </font>"
   ]
  },
  {
   "cell_type": "code",
   "execution_count": 3,
   "metadata": {},
   "outputs": [
    {
     "name": "stdout",
     "output_type": "stream",
     "text": [
      "List is empty\n",
      "True\n",
      "False\n"
     ]
    }
   ],
   "source": [
    "def is_expanding_effcient(ls):\n",
    "    if not ls:\n",
    "        return \"List is empty\"\n",
    "    for x in range(len(ls) - 2):\n",
    "        if abs(ls[x+1]-ls[x+2]) <= abs(ls[x]-ls[x+1]):\n",
    "            return False\n",
    "    return True\n",
    "#checks\n",
    "print(is_expanding_effcient([]))\n",
    "print(is_expanding_effcient([5, 6, 8, 11]))\n",
    "print(is_expanding_effcient([5, 5, 8, 11]))"
   ]
  },
  {
   "cell_type": "markdown",
   "metadata": {},
   "source": [
    "<font color=\"blue\" > <h3 align='left'> Part B </h3> </font>"
   ]
  },
  {
   "cell_type": "code",
   "execution_count": 4,
   "metadata": {},
   "outputs": [
    {
     "name": "stdout",
     "output_type": "stream",
     "text": [
      "3\n",
      "4\n"
     ]
    }
   ],
   "source": [
    "def count_expanding_series(ls):\n",
    "    if not ls:\n",
    "        return 0\n",
    "    if is_expanding_effcient(ls):\n",
    "        return 1\n",
    "    start = 0\n",
    "    counter = 1\n",
    "    for i in range(1, len(ls)+1):\n",
    "        lst = ls[start:i]\n",
    "        if not is_expanding_effcient(lst):\n",
    "            counter += 1\n",
    "            start = i-1\n",
    "\n",
    "    return counter\n",
    "#checks\n",
    "print(count_expanding_series([1, 2, 4, 4, 3, 1, 2]))\n",
    "print(count_expanding_series([1, 2, 3, 4, 3, 2, 1]))"
   ]
  },
  {
   "cell_type": "markdown",
   "metadata": {},
   "source": [
    "<font color=\"dark\"> <h1 align='center'> Question 2 </h1> </font>"
   ]
  },
  {
   "cell_type": "markdown",
   "metadata": {},
   "source": [
    "<font color=\"blue\" > <h3 align='left'> Part A.1 </h3> </font>"
   ]
  },
  {
   "cell_type": "code",
   "execution_count": 5,
   "metadata": {},
   "outputs": [
    {
     "name": "stdout",
     "output_type": "stream",
     "text": [
      "{'a': 'd', 'b': 'e', 'c': 'f', 'd': 'g', 'e': 'h', 'f': 'i', 'g': 'j', 'h': 'k', 'i': 'l', 'j': 'm', 'k': 'n', 'l': 'o', 'm': 'p', 'n': 'q', 'o': 'r', 'p': 's', 'q': 't', 'r': 'u', 's': 'v', 't': 'w', 'u': 'x', 'v': 'y', 'w': 'z', 'x': 'a', 'y': 'b', 'z': 'c'}\n"
     ]
    }
   ],
   "source": [
    "def create_encryption_mapping(offset):\n",
    "    import string\n",
    "    lower = string.ascii_lowercase\n",
    "    dic = {key:ord(key) for key in lower}\n",
    "    for i in dic:\n",
    "        if dic[i]+offset > 122:\n",
    "            dic[i] = chr(dic[i]+offset-26)\n",
    "        else:\n",
    "            dic[i] = chr(dic[i]+offset)\n",
    "\n",
    "    return dic\n",
    "encrypt_dict_ = create_encryption_mapping(3)\n",
    "print(encrypt_dict_)"
   ]
  },
  {
   "cell_type": "markdown",
   "metadata": {},
   "source": [
    "<font color=\"blue\" > <h3 align='left'> Part B </h3> </font>"
   ]
  },
  {
   "cell_type": "code",
   "execution_count": 6,
   "metadata": {},
   "outputs": [],
   "source": [
    "def encrypt_text(in_file, dic, out_file):\n",
    "    st = ''\n",
    "    try:\n",
    "        with open(in_file, \"r\") as fr:\n",
    "            lines = fr.readlines()\n",
    "            if not lines:\n",
    "                raise ValueError(\"file is empty, nothing to encrypt\")\n",
    "            try:\n",
    "                with open(out_file, \"w\") as fw:\n",
    "                    for l in lines:\n",
    "                        for x in l:\n",
    "                            if not x.isalpha():\n",
    "                                st += x\n",
    "                            else:\n",
    "                                if x.isupper():\n",
    "                                    st += dic[x.lower()].upper()\n",
    "                                else:\n",
    "                                    st += dic[x]\n",
    "                    fw.write(st)\n",
    "            except IOError:\n",
    "                raise IOError(\"cannot write encryption, fix output path\")\n",
    "    except FileNotFoundError:\n",
    "        raise IOError(\"missing input file, cannot encrypt\")\n",
    "        \n",
    "encrypt_text('input_file.txt', encrypt_dict_, 'output_file.txt')"
   ]
  },
  {
   "cell_type": "markdown",
   "metadata": {},
   "source": [
    "<font color=\"blue\" > <h3 align='left'> Part C </h3> </font>"
   ]
  },
  {
   "cell_type": "code",
   "execution_count": 7,
   "metadata": {},
   "outputs": [],
   "source": [
    "def decrypt_text(in_file, dict, out_file):\n",
    "    encryptdic = {value:key for key, value in dict.items()} # switch places\n",
    "    encrypt_text(in_file, encryptdic, out_file) # call to the function from part B\n",
    "decrypt_text('output_file.txt', encrypt_dict_, 'decrypted_file.txt')"
   ]
  },
  {
   "cell_type": "markdown",
   "metadata": {},
   "source": [
    "<strong>Note</strong>: After running part B and C you should see 2 more files:\n",
    "        <ol>\n",
    "        <li>output_file which is encrypted file</li>\n",
    "        <li>decrypted_file which is decrypted file</li>\n",
    "        </ol>"
   ]
  },
  {
   "cell_type": "markdown",
   "metadata": {},
   "source": [
    "<font color=\"blue\" > <h3 align='left'> Part D </h3> </font>"
   ]
  },
  {
   "cell_type": "code",
   "execution_count": 8,
   "metadata": {},
   "outputs": [
    {
     "name": "stdout",
     "output_type": "stream",
     "text": [
      "{'c': 'a', 'a': 'b', 'b': 'c'}\n"
     ]
    }
   ],
   "source": [
    "def find_optimal_encryption(ls, bit_dict):\n",
    "    dic = {}\n",
    "    if not ls:\n",
    "        return dic\n",
    "\n",
    "    bit_dic = {key: value for key, value in sorted(bit_dict.items(), key=lambda kv: -kv[1])}\n",
    "\n",
    "    st = \"\".join(ls).lower()\n",
    "    for x in st:\n",
    "        if x.isalpha():\n",
    "            dic[x] = dic.get(x, 0) + 1\n",
    "\n",
    "    dic = {key: value for key, value in sorted(dic.items(), key=lambda x: (x[1], -ord(x[0])))}\n",
    "    return {key: value for key, value in zip(dic, bit_dic)}\n",
    "\n",
    "bit_dic = {'a': 30, 'b': 8, 'c': 2}\n",
    "ls = ['aabbb', 'aabbbb', 'bbacc']\n",
    "print(find_optimal_encryption(ls, bit_dic))"
   ]
  },
  {
   "cell_type": "markdown",
   "metadata": {},
   "source": [
    "<font color=\"dark\"> <h1 align='center'> Question 3 </h1> </font>"
   ]
  },
  {
   "cell_type": "markdown",
   "metadata": {},
   "source": [
    "<font color=\"blue\" > <h3 align='left'> Part A </h3> </font>"
   ]
  },
  {
   "cell_type": "code",
   "execution_count": 9,
   "metadata": {},
   "outputs": [
    {
     "name": "stdout",
     "output_type": "stream",
     "text": [
      "a b c\n",
      "a c b\n",
      "b a c\n",
      "b c a\n",
      "c a b\n",
      "c b a\n"
     ]
    }
   ],
   "source": [
    "def permuteHelper(ls):\n",
    "    if len(ls) == 0:\n",
    "        return []\n",
    "    if len(ls) == 1:\n",
    "        return [ls]\n",
    "    l = []\n",
    "    for i in range(len(ls)):\n",
    "        first = ls[i]\n",
    "        lst = ls[:i] + ls[i+1:]\n",
    "        for ph in permuteHelper(lst):\n",
    "            l.append([first] + ph)\n",
    "    return l\n",
    "\n",
    "def permute(items):\n",
    "\n",
    "    lt = permuteHelper(items) # used a recursive function\n",
    "    lt.sort()\n",
    "    i = 0\n",
    "    while i < len(lt):\n",
    "        new_list = (yield lt[i])\n",
    "        if new_list is not None:\n",
    "            yield from permute(new_list)\n",
    "            break\n",
    "        else:\n",
    "            i += 1\n",
    "\n",
    "for p in permute(['b', 'a', 'c']): print(' '.join(p))"
   ]
  },
  {
   "cell_type": "markdown",
   "metadata": {},
   "source": [
    "<strong>Note</strong>: can import 'from itertools import permutations' and use permutations instead of the permuteHelper function"
   ]
  },
  {
   "cell_type": "markdown",
   "metadata": {},
   "source": [
    "<font color=\"blue\" > <h3 align='left'> Part B </h3> </font>"
   ]
  },
  {
   "cell_type": "code",
   "execution_count": 10,
   "metadata": {},
   "outputs": [
    {
     "name": "stdout",
     "output_type": "stream",
     "text": [
      "[([1, 2, 3], -4), ([1, 3, 2], -4), ([2, 1, 3], -2), ([2, 3, 1], -2), ([3, 1, 2], 0), ([3, 2, 1], 0)]\n"
     ]
    }
   ],
   "source": [
    "def perfrom_math_operation(permutations, op):\n",
    "\n",
    "    perm_list = []\n",
    "    for x in permutations:\n",
    "        perm_list.append(x)\n",
    "    try:\n",
    "        ans_list =[reduce(op, x) for x in perm_list]\n",
    "    except ZeroDivisionError:\n",
    "        raise ValueError(\"Cannot divide numbers by zero, please go back to school\")\n",
    "\n",
    "    return list(zip(perm_list, ans_list))\n",
    "#check\n",
    "operations = [add, sub, mul, pow, truediv]\n",
    "numbers = [1, 2, 3]\n",
    "results = perfrom_math_operation(permute(numbers), sub)\n",
    "print(results)"
   ]
  },
  {
   "cell_type": "markdown",
   "metadata": {},
   "source": [
    "<font color=\"blue\" > <h3 align='left'> Part C </h3> </font>"
   ]
  },
  {
   "cell_type": "code",
   "execution_count": 11,
   "metadata": {},
   "outputs": [
    {
     "name": "stdout",
     "output_type": "stream",
     "text": [
      "{-4: [[1, 2, 3], [1, 3, 2]], -2: [[2, 1, 3], [2, 3, 1]], 0: [[3, 1, 2], [3, 2, 1]]}\n"
     ]
    }
   ],
   "source": [
    "def group_permutation_values(results):\n",
    "    return {key: [x[0] for x in value] for key, value in itertools.groupby(results, lambda x: x[1])}\n",
    "\n",
    "#check\n",
    "print(group_permutation_values(results))"
   ]
  },
  {
   "cell_type": "code",
   "execution_count": null,
   "metadata": {},
   "outputs": [],
   "source": []
  }
 ],
 "metadata": {
  "kernelspec": {
   "display_name": "Python 3",
   "language": "python",
   "name": "python3"
  },
  "language_info": {
   "codemirror_mode": {
    "name": "ipython",
    "version": 3
   },
   "file_extension": ".py",
   "mimetype": "text/x-python",
   "name": "python",
   "nbconvert_exporter": "python",
   "pygments_lexer": "ipython3",
   "version": "3.7.3"
  }
 },
 "nbformat": 4,
 "nbformat_minor": 2
}
